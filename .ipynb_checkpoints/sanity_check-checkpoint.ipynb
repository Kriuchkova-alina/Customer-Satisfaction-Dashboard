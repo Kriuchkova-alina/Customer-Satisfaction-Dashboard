{
 "cells": [
  {
   "cell_type": "markdown",
   "id": "e785d7da-9561-44ee-ad92-e30454b830b2",
   "metadata": {},
   "source": [
    "# Импорт необходимых библиотек"
   ]
  },
  {
   "cell_type": "code",
   "execution_count": 2,
   "id": "3c552f44-86d4-48d8-875f-a0b387e640e6",
   "metadata": {},
   "outputs": [],
   "source": [
    "import pandas as pd\n",
    "import requests"
   ]
  },
  {
   "cell_type": "markdown",
   "id": "adb274f3-9247-443a-9549-29cd8a833dd4",
   "metadata": {},
   "source": [
    "# Загрузка данных"
   ]
  },
  {
   "cell_type": "code",
   "execution_count": 4,
   "id": "a7ad088d-078d-4c90-a504-0d53d0c36a6d",
   "metadata": {},
   "outputs": [],
   "source": [
    "public_url = 'https://disk.yandex.ru/i/eEXdJhCC8gy27A'\n",
    "api_url = 'https://cloud-api.yandex.net/v1/disk/public/resources/download?'\n",
    "params = {'public_key':public_url}\n",
    "response = requests.get(api_url, params=params)\n",
    "response.raise_for_status()\n",
    "download_url = response.json()['href']"
   ]
  },
  {
   "cell_type": "code",
   "execution_count": 5,
   "id": "6a754ccf-8a9b-432f-a6a6-47fb76a84fef",
   "metadata": {},
   "outputs": [
    {
     "data": {
      "text/html": [
       "<div>\n",
       "<style scoped>\n",
       "    .dataframe tbody tr th:only-of-type {\n",
       "        vertical-align: middle;\n",
       "    }\n",
       "\n",
       "    .dataframe tbody tr th {\n",
       "        vertical-align: top;\n",
       "    }\n",
       "\n",
       "    .dataframe thead th {\n",
       "        text-align: right;\n",
       "    }\n",
       "</style>\n",
       "<table border=\"1\" class=\"dataframe\">\n",
       "  <thead>\n",
       "    <tr style=\"text-align: right;\">\n",
       "      <th></th>\n",
       "      <th>Бренд</th>\n",
       "      <th>Месяц</th>\n",
       "      <th>Продажи</th>\n",
       "      <th>Рейтинг</th>\n",
       "      <th>Отзывы</th>\n",
       "    </tr>\n",
       "  </thead>\n",
       "  <tbody>\n",
       "    <tr>\n",
       "      <th>0</th>\n",
       "      <td>188cosmetics</td>\n",
       "      <td>2023-12-01</td>\n",
       "      <td>5844</td>\n",
       "      <td>4.8</td>\n",
       "      <td>255</td>\n",
       "    </tr>\n",
       "    <tr>\n",
       "      <th>1</th>\n",
       "      <td>188cosmetics</td>\n",
       "      <td>2023-11-01</td>\n",
       "      <td>4423</td>\n",
       "      <td>4.8</td>\n",
       "      <td>284</td>\n",
       "    </tr>\n",
       "    <tr>\n",
       "      <th>2</th>\n",
       "      <td>188cosmetics</td>\n",
       "      <td>2023-10-01</td>\n",
       "      <td>3093</td>\n",
       "      <td>4.6</td>\n",
       "      <td>104</td>\n",
       "    </tr>\n",
       "    <tr>\n",
       "      <th>3</th>\n",
       "      <td>188cosmetics</td>\n",
       "      <td>2023-09-01</td>\n",
       "      <td>3399</td>\n",
       "      <td>4.6</td>\n",
       "      <td>115</td>\n",
       "    </tr>\n",
       "    <tr>\n",
       "      <th>4</th>\n",
       "      <td>188cosmetics</td>\n",
       "      <td>2023-08-01</td>\n",
       "      <td>3685</td>\n",
       "      <td>4.5</td>\n",
       "      <td>124</td>\n",
       "    </tr>\n",
       "  </tbody>\n",
       "</table>\n",
       "</div>"
      ],
      "text/plain": [
       "          Бренд      Месяц  Продажи  Рейтинг  Отзывы\n",
       "0  188cosmetics 2023-12-01     5844      4.8     255\n",
       "1  188cosmetics 2023-11-01     4423      4.8     284\n",
       "2  188cosmetics 2023-10-01     3093      4.6     104\n",
       "3  188cosmetics 2023-09-01     3399      4.6     115\n",
       "4  188cosmetics 2023-08-01     3685      4.5     124"
      ]
     },
     "execution_count": 5,
     "metadata": {},
     "output_type": "execute_result"
    }
   ],
   "source": [
    "dynamic = pd.read_excel(download_url, sheet_name=0)\n",
    "dynamic.head()"
   ]
  },
  {
   "cell_type": "code",
   "execution_count": 6,
   "id": "23276add-18ff-432f-aa61-1af19c5df179",
   "metadata": {},
   "outputs": [
    {
     "data": {
      "text/html": [
       "<div>\n",
       "<style scoped>\n",
       "    .dataframe tbody tr th:only-of-type {\n",
       "        vertical-align: middle;\n",
       "    }\n",
       "\n",
       "    .dataframe tbody tr th {\n",
       "        vertical-align: top;\n",
       "    }\n",
       "\n",
       "    .dataframe thead th {\n",
       "        text-align: right;\n",
       "    }\n",
       "</style>\n",
       "<table border=\"1\" class=\"dataframe\">\n",
       "  <thead>\n",
       "    <tr style=\"text-align: right;\">\n",
       "      <th></th>\n",
       "      <th>SKU</th>\n",
       "      <th>Категория</th>\n",
       "      <th>Предмет</th>\n",
       "      <th>Бренд</th>\n",
       "      <th>Продажи (Декабрь)</th>\n",
       "      <th>Продажи (Ноябрь)</th>\n",
       "      <th>Страна</th>\n",
       "      <th>Дата появления карточки</th>\n",
       "      <th>Кол-во фото</th>\n",
       "      <th>Видео</th>\n",
       "      <th>Рейтинг (Декабрь)</th>\n",
       "      <th>Рейтинг (Ноябрь)</th>\n",
       "      <th>Отзывы (Декабрь)</th>\n",
       "      <th>Отзывы (Ноябрь)</th>\n",
       "    </tr>\n",
       "  </thead>\n",
       "  <tbody>\n",
       "    <tr>\n",
       "      <th>0</th>\n",
       "      <td>13856867</td>\n",
       "      <td>Уход за кожей</td>\n",
       "      <td>Скрабы</td>\n",
       "      <td>The Act express recovery</td>\n",
       "      <td>109619</td>\n",
       "      <td>110053</td>\n",
       "      <td>Россия</td>\n",
       "      <td>2021-07-31</td>\n",
       "      <td>7</td>\n",
       "      <td>1</td>\n",
       "      <td>4.7</td>\n",
       "      <td>5.0</td>\n",
       "      <td>4766</td>\n",
       "      <td>5163</td>\n",
       "    </tr>\n",
       "    <tr>\n",
       "      <th>1</th>\n",
       "      <td>46825817</td>\n",
       "      <td>Уход за кожей</td>\n",
       "      <td>Кремы</td>\n",
       "      <td>EpilProfi</td>\n",
       "      <td>48308</td>\n",
       "      <td>48946</td>\n",
       "      <td>Россия</td>\n",
       "      <td>2022-11-24</td>\n",
       "      <td>9</td>\n",
       "      <td>1</td>\n",
       "      <td>4.8</td>\n",
       "      <td>5.0</td>\n",
       "      <td>2100</td>\n",
       "      <td>2296</td>\n",
       "    </tr>\n",
       "    <tr>\n",
       "      <th>2</th>\n",
       "      <td>51524888</td>\n",
       "      <td>Профессиональная косметика</td>\n",
       "      <td>Гели для бровей</td>\n",
       "      <td>PUSY</td>\n",
       "      <td>40756</td>\n",
       "      <td>39432</td>\n",
       "      <td>Россия</td>\n",
       "      <td>2023-01-06</td>\n",
       "      <td>9</td>\n",
       "      <td>1</td>\n",
       "      <td>4.6</td>\n",
       "      <td>4.3</td>\n",
       "      <td>1772</td>\n",
       "      <td>1823</td>\n",
       "    </tr>\n",
       "    <tr>\n",
       "      <th>3</th>\n",
       "      <td>56236410</td>\n",
       "      <td>Средства личной гигиены</td>\n",
       "      <td>Влажные салфетки</td>\n",
       "      <td>FRESHLAND</td>\n",
       "      <td>50150</td>\n",
       "      <td>44773</td>\n",
       "      <td>Россия</td>\n",
       "      <td>2023-01-13</td>\n",
       "      <td>8</td>\n",
       "      <td>1</td>\n",
       "      <td>4.9</td>\n",
       "      <td>4.6</td>\n",
       "      <td>2180</td>\n",
       "      <td>2134</td>\n",
       "    </tr>\n",
       "    <tr>\n",
       "      <th>4</th>\n",
       "      <td>16898570</td>\n",
       "      <td>Макияж</td>\n",
       "      <td>Туши</td>\n",
       "      <td>LUXVISAGE</td>\n",
       "      <td>64598</td>\n",
       "      <td>71601</td>\n",
       "      <td>Беларусь</td>\n",
       "      <td>2022-08-02</td>\n",
       "      <td>9</td>\n",
       "      <td>1</td>\n",
       "      <td>4.7</td>\n",
       "      <td>5.0</td>\n",
       "      <td>2809</td>\n",
       "      <td>3350</td>\n",
       "    </tr>\n",
       "  </tbody>\n",
       "</table>\n",
       "</div>"
      ],
      "text/plain": [
       "        SKU                   Категория           Предмет  \\\n",
       "0  13856867               Уход за кожей            Скрабы   \n",
       "1  46825817               Уход за кожей             Кремы   \n",
       "2  51524888  Профессиональная косметика   Гели для бровей   \n",
       "3  56236410     Средства личной гигиены  Влажные салфетки   \n",
       "4  16898570                      Макияж              Туши   \n",
       "\n",
       "                      Бренд  Продажи (Декабрь)  Продажи (Ноябрь)    Страна  \\\n",
       "0  The Act express recovery             109619            110053    Россия   \n",
       "1                 EpilProfi              48308             48946    Россия   \n",
       "2                      PUSY              40756             39432    Россия   \n",
       "3                 FRESHLAND              50150             44773    Россия   \n",
       "4                 LUXVISAGE              64598             71601  Беларусь   \n",
       "\n",
       "  Дата появления карточки   Кол-во фото  Видео  Рейтинг (Декабрь)  \\\n",
       "0               2021-07-31            7      1                4.7   \n",
       "1               2022-11-24            9      1                4.8   \n",
       "2               2023-01-06            9      1                4.6   \n",
       "3               2023-01-13            8      1                4.9   \n",
       "4               2022-08-02            9      1                4.7   \n",
       "\n",
       "   Рейтинг (Ноябрь)  Отзывы (Декабрь)  Отзывы (Ноябрь)  \n",
       "0               5.0              4766             5163  \n",
       "1               5.0              2100             2296  \n",
       "2               4.3              1772             1823  \n",
       "3               4.6              2180             2134  \n",
       "4               5.0              2809             3350  "
      ]
     },
     "execution_count": 6,
     "metadata": {},
     "output_type": "execute_result"
    }
   ],
   "source": [
    "products = pd.read_excel(download_url, sheet_name=1)\n",
    "products.head()"
   ]
  },
  {
   "cell_type": "markdown",
   "id": "367d0527-4e74-41df-ac1c-d93b63fe0d85",
   "metadata": {},
   "source": [
    "# Проверка чистоты данных"
   ]
  },
  {
   "cell_type": "markdown",
   "id": "2e3e6943-5e56-4f1a-b6f6-b200b5c050f4",
   "metadata": {},
   "source": [
    "Данные будут подготавливаться на стороне BI системы, поэтому в данном блоке проведем основной sanity check"
   ]
  },
  {
   "cell_type": "markdown",
   "id": "87e0c05c-1d70-4229-8f5a-98238934609d",
   "metadata": {},
   "source": [
    "#### Проверка на пропуски"
   ]
  },
  {
   "cell_type": "code",
   "execution_count": 5,
   "id": "122aa449-7c55-4f97-a74f-5ed5d15e12f8",
   "metadata": {},
   "outputs": [
    {
     "data": {
      "text/plain": [
       "Бренд      0\n",
       "Месяц      0\n",
       "Продажи    0\n",
       "Рейтинг    0\n",
       "Отзывы     0\n",
       "dtype: int64"
      ]
     },
     "execution_count": 5,
     "metadata": {},
     "output_type": "execute_result"
    }
   ],
   "source": [
    "dynamic.isna().sum()"
   ]
  },
  {
   "cell_type": "code",
   "execution_count": 6,
   "id": "877cd828-2e5f-41f6-9386-2c699b82fe53",
   "metadata": {},
   "outputs": [
    {
     "data": {
      "text/plain": [
       "SKU                           0\n",
       "Категория                     0\n",
       "Предмет                       0\n",
       "Бренд                         0\n",
       "Продажи (Декабрь)             0\n",
       "Продажи (Ноябрь)              0\n",
       "Страна                        0\n",
       "Дата появления карточки       0\n",
       "Кол-во фото                   0\n",
       "Видео                         0\n",
       "Рейтинг (Декабрь)             0\n",
       "Рейтинг (Ноябрь)            617\n",
       "Отзывы (Декабрь)              0\n",
       "Отзывы (Ноябрь)               0\n",
       "dtype: int64"
      ]
     },
     "execution_count": 6,
     "metadata": {},
     "output_type": "execute_result"
    }
   ],
   "source": [
    "products.isna().sum()\n",
    "# Есть пропуски в столбце рейтинга за ноябрь"
   ]
  },
  {
   "cell_type": "markdown",
   "id": "0b186d04-8181-4bf9-816c-db7de375711f",
   "metadata": {},
   "source": [
    "#### Проверка на дубликаты"
   ]
  },
  {
   "cell_type": "code",
   "execution_count": 7,
   "id": "a18cd313-752b-4cfc-850f-a25d471cd185",
   "metadata": {},
   "outputs": [
    {
     "data": {
      "text/html": [
       "<div>\n",
       "<style scoped>\n",
       "    .dataframe tbody tr th:only-of-type {\n",
       "        vertical-align: middle;\n",
       "    }\n",
       "\n",
       "    .dataframe tbody tr th {\n",
       "        vertical-align: top;\n",
       "    }\n",
       "\n",
       "    .dataframe thead th {\n",
       "        text-align: right;\n",
       "    }\n",
       "</style>\n",
       "<table border=\"1\" class=\"dataframe\">\n",
       "  <thead>\n",
       "    <tr style=\"text-align: right;\">\n",
       "      <th></th>\n",
       "      <th>Бренд</th>\n",
       "      <th>Месяц</th>\n",
       "      <th>Продажи</th>\n",
       "      <th>Рейтинг</th>\n",
       "      <th>Отзывы</th>\n",
       "    </tr>\n",
       "  </thead>\n",
       "  <tbody>\n",
       "  </tbody>\n",
       "</table>\n",
       "</div>"
      ],
      "text/plain": [
       "Empty DataFrame\n",
       "Columns: [Бренд, Месяц, Продажи, Рейтинг, Отзывы]\n",
       "Index: []"
      ]
     },
     "execution_count": 7,
     "metadata": {},
     "output_type": "execute_result"
    }
   ],
   "source": [
    "dynamic[dynamic.duplicated()]"
   ]
  },
  {
   "cell_type": "code",
   "execution_count": 8,
   "id": "7e9a0c1e-9af7-44c4-be62-9c7c65414fa2",
   "metadata": {},
   "outputs": [
    {
     "data": {
      "text/html": [
       "<div>\n",
       "<style scoped>\n",
       "    .dataframe tbody tr th:only-of-type {\n",
       "        vertical-align: middle;\n",
       "    }\n",
       "\n",
       "    .dataframe tbody tr th {\n",
       "        vertical-align: top;\n",
       "    }\n",
       "\n",
       "    .dataframe thead th {\n",
       "        text-align: right;\n",
       "    }\n",
       "</style>\n",
       "<table border=\"1\" class=\"dataframe\">\n",
       "  <thead>\n",
       "    <tr style=\"text-align: right;\">\n",
       "      <th></th>\n",
       "      <th>SKU</th>\n",
       "      <th>Категория</th>\n",
       "      <th>Предмет</th>\n",
       "      <th>Бренд</th>\n",
       "      <th>Продажи (Декабрь)</th>\n",
       "      <th>Продажи (Ноябрь)</th>\n",
       "      <th>Страна</th>\n",
       "      <th>Дата появления карточки</th>\n",
       "      <th>Кол-во фото</th>\n",
       "      <th>Видео</th>\n",
       "      <th>Рейтинг (Декабрь)</th>\n",
       "      <th>Рейтинг (Ноябрь)</th>\n",
       "      <th>Отзывы (Декабрь)</th>\n",
       "      <th>Отзывы (Ноябрь)</th>\n",
       "    </tr>\n",
       "  </thead>\n",
       "  <tbody>\n",
       "  </tbody>\n",
       "</table>\n",
       "</div>"
      ],
      "text/plain": [
       "Empty DataFrame\n",
       "Columns: [SKU, Категория, Предмет, Бренд, Продажи (Декабрь), Продажи (Ноябрь), Страна, Дата появления карточки , Кол-во фото, Видео, Рейтинг (Декабрь), Рейтинг (Ноябрь), Отзывы (Декабрь), Отзывы (Ноябрь)]\n",
       "Index: []"
      ]
     },
     "execution_count": 8,
     "metadata": {},
     "output_type": "execute_result"
    }
   ],
   "source": [
    "products[products.duplicated()]"
   ]
  },
  {
   "cell_type": "markdown",
   "id": "5a0fcd12-c96a-4af8-ae8f-d42f9407b213",
   "metadata": {},
   "source": [
    "#### Общий обзор данных"
   ]
  },
  {
   "cell_type": "code",
   "execution_count": 9,
   "id": "5eb5e9a6-8beb-4078-8f91-53b0ce5b05f5",
   "metadata": {},
   "outputs": [
    {
     "data": {
      "text/html": [
       "<div>\n",
       "<style scoped>\n",
       "    .dataframe tbody tr th:only-of-type {\n",
       "        vertical-align: middle;\n",
       "    }\n",
       "\n",
       "    .dataframe tbody tr th {\n",
       "        vertical-align: top;\n",
       "    }\n",
       "\n",
       "    .dataframe thead th {\n",
       "        text-align: right;\n",
       "    }\n",
       "</style>\n",
       "<table border=\"1\" class=\"dataframe\">\n",
       "  <thead>\n",
       "    <tr style=\"text-align: right;\">\n",
       "      <th></th>\n",
       "      <th>Месяц</th>\n",
       "      <th>Продажи</th>\n",
       "      <th>Рейтинг</th>\n",
       "      <th>Отзывы</th>\n",
       "    </tr>\n",
       "  </thead>\n",
       "  <tbody>\n",
       "    <tr>\n",
       "      <th>count</th>\n",
       "      <td>6000</td>\n",
       "      <td>6000.000000</td>\n",
       "      <td>6000.000000</td>\n",
       "      <td>6000.000000</td>\n",
       "    </tr>\n",
       "    <tr>\n",
       "      <th>mean</th>\n",
       "      <td>2023-09-15 20:00:00</td>\n",
       "      <td>18048.205333</td>\n",
       "      <td>4.381133</td>\n",
       "      <td>686.079167</td>\n",
       "    </tr>\n",
       "    <tr>\n",
       "      <th>min</th>\n",
       "      <td>2023-07-01 00:00:00</td>\n",
       "      <td>780.000000</td>\n",
       "      <td>3.300000</td>\n",
       "      <td>27.000000</td>\n",
       "    </tr>\n",
       "    <tr>\n",
       "      <th>25%</th>\n",
       "      <td>2023-08-01 00:00:00</td>\n",
       "      <td>4250.750000</td>\n",
       "      <td>4.200000</td>\n",
       "      <td>161.000000</td>\n",
       "    </tr>\n",
       "    <tr>\n",
       "      <th>50%</th>\n",
       "      <td>2023-09-16 00:00:00</td>\n",
       "      <td>6898.500000</td>\n",
       "      <td>4.400000</td>\n",
       "      <td>259.000000</td>\n",
       "    </tr>\n",
       "    <tr>\n",
       "      <th>75%</th>\n",
       "      <td>2023-11-01 00:00:00</td>\n",
       "      <td>14955.500000</td>\n",
       "      <td>4.500000</td>\n",
       "      <td>570.000000</td>\n",
       "    </tr>\n",
       "    <tr>\n",
       "      <th>max</th>\n",
       "      <td>2023-12-01 00:00:00</td>\n",
       "      <td>545259.000000</td>\n",
       "      <td>5.000000</td>\n",
       "      <td>24876.000000</td>\n",
       "    </tr>\n",
       "    <tr>\n",
       "      <th>std</th>\n",
       "      <td>NaN</td>\n",
       "      <td>40974.518357</td>\n",
       "      <td>0.224935</td>\n",
       "      <td>1610.533021</td>\n",
       "    </tr>\n",
       "  </tbody>\n",
       "</table>\n",
       "</div>"
      ],
      "text/plain": [
       "                     Месяц        Продажи      Рейтинг        Отзывы\n",
       "count                 6000    6000.000000  6000.000000   6000.000000\n",
       "mean   2023-09-15 20:00:00   18048.205333     4.381133    686.079167\n",
       "min    2023-07-01 00:00:00     780.000000     3.300000     27.000000\n",
       "25%    2023-08-01 00:00:00    4250.750000     4.200000    161.000000\n",
       "50%    2023-09-16 00:00:00    6898.500000     4.400000    259.000000\n",
       "75%    2023-11-01 00:00:00   14955.500000     4.500000    570.000000\n",
       "max    2023-12-01 00:00:00  545259.000000     5.000000  24876.000000\n",
       "std                    NaN   40974.518357     0.224935   1610.533021"
      ]
     },
     "execution_count": 9,
     "metadata": {},
     "output_type": "execute_result"
    }
   ],
   "source": [
    "dynamic.describe()"
   ]
  },
  {
   "cell_type": "code",
   "execution_count": 10,
   "id": "57b39668-5315-4f0e-9f80-6d275691d7d0",
   "metadata": {},
   "outputs": [
    {
     "data": {
      "text/html": [
       "<div>\n",
       "<style scoped>\n",
       "    .dataframe tbody tr th:only-of-type {\n",
       "        vertical-align: middle;\n",
       "    }\n",
       "\n",
       "    .dataframe tbody tr th {\n",
       "        vertical-align: top;\n",
       "    }\n",
       "\n",
       "    .dataframe thead th {\n",
       "        text-align: right;\n",
       "    }\n",
       "</style>\n",
       "<table border=\"1\" class=\"dataframe\">\n",
       "  <thead>\n",
       "    <tr style=\"text-align: right;\">\n",
       "      <th></th>\n",
       "      <th>SKU</th>\n",
       "      <th>Продажи (Декабрь)</th>\n",
       "      <th>Продажи (Ноябрь)</th>\n",
       "      <th>Дата появления карточки</th>\n",
       "      <th>Кол-во фото</th>\n",
       "      <th>Видео</th>\n",
       "      <th>Рейтинг (Декабрь)</th>\n",
       "      <th>Рейтинг (Ноябрь)</th>\n",
       "      <th>Отзывы (Декабрь)</th>\n",
       "      <th>Отзывы (Ноябрь)</th>\n",
       "    </tr>\n",
       "  </thead>\n",
       "  <tbody>\n",
       "    <tr>\n",
       "      <th>count</th>\n",
       "      <td>9.133200e+04</td>\n",
       "      <td>91332.000000</td>\n",
       "      <td>91332.000000</td>\n",
       "      <td>91332</td>\n",
       "      <td>91332.000000</td>\n",
       "      <td>91332.000000</td>\n",
       "      <td>91332.000000</td>\n",
       "      <td>90715.000000</td>\n",
       "      <td>91332.000000</td>\n",
       "      <td>91332.000000</td>\n",
       "    </tr>\n",
       "    <tr>\n",
       "      <th>mean</th>\n",
       "      <td>5.218809e+07</td>\n",
       "      <td>232.286975</td>\n",
       "      <td>225.419382</td>\n",
       "      <td>2022-07-26 19:23:47.039811072</td>\n",
       "      <td>5.530406</td>\n",
       "      <td>0.225693</td>\n",
       "      <td>4.468394</td>\n",
       "      <td>4.450638</td>\n",
       "      <td>10.033252</td>\n",
       "      <td>10.503690</td>\n",
       "    </tr>\n",
       "    <tr>\n",
       "      <th>min</th>\n",
       "      <td>3.022990e+05</td>\n",
       "      <td>1.000000</td>\n",
       "      <td>0.000000</td>\n",
       "      <td>2013-01-04 00:00:00</td>\n",
       "      <td>0.000000</td>\n",
       "      <td>0.000000</td>\n",
       "      <td>1.000000</td>\n",
       "      <td>1.000000</td>\n",
       "      <td>0.000000</td>\n",
       "      <td>0.000000</td>\n",
       "    </tr>\n",
       "    <tr>\n",
       "      <th>25%</th>\n",
       "      <td>1.702470e+07</td>\n",
       "      <td>5.000000</td>\n",
       "      <td>5.000000</td>\n",
       "      <td>2022-01-26 00:00:00</td>\n",
       "      <td>3.000000</td>\n",
       "      <td>0.000000</td>\n",
       "      <td>4.300000</td>\n",
       "      <td>4.300000</td>\n",
       "      <td>0.000000</td>\n",
       "      <td>0.000000</td>\n",
       "    </tr>\n",
       "    <tr>\n",
       "      <th>50%</th>\n",
       "      <td>4.358893e+07</td>\n",
       "      <td>22.000000</td>\n",
       "      <td>20.000000</td>\n",
       "      <td>2022-11-21 00:00:00</td>\n",
       "      <td>5.000000</td>\n",
       "      <td>0.000000</td>\n",
       "      <td>4.600000</td>\n",
       "      <td>4.500000</td>\n",
       "      <td>1.000000</td>\n",
       "      <td>1.000000</td>\n",
       "    </tr>\n",
       "    <tr>\n",
       "      <th>75%</th>\n",
       "      <td>8.010901e+07</td>\n",
       "      <td>89.000000</td>\n",
       "      <td>86.000000</td>\n",
       "      <td>2023-06-25 00:00:00</td>\n",
       "      <td>7.000000</td>\n",
       "      <td>0.000000</td>\n",
       "      <td>4.800000</td>\n",
       "      <td>4.800000</td>\n",
       "      <td>4.000000</td>\n",
       "      <td>4.000000</td>\n",
       "    </tr>\n",
       "    <tr>\n",
       "      <th>max</th>\n",
       "      <td>1.488241e+08</td>\n",
       "      <td>117175.000000</td>\n",
       "      <td>123809.000000</td>\n",
       "      <td>2023-11-30 00:00:00</td>\n",
       "      <td>45.000000</td>\n",
       "      <td>1.000000</td>\n",
       "      <td>5.000000</td>\n",
       "      <td>5.000000</td>\n",
       "      <td>5095.000000</td>\n",
       "      <td>5702.000000</td>\n",
       "    </tr>\n",
       "    <tr>\n",
       "      <th>std</th>\n",
       "      <td>3.785320e+07</td>\n",
       "      <td>1625.949740</td>\n",
       "      <td>1633.056026</td>\n",
       "      <td>NaN</td>\n",
       "      <td>4.020511</td>\n",
       "      <td>0.418040</td>\n",
       "      <td>0.531362</td>\n",
       "      <td>0.536275</td>\n",
       "      <td>70.545133</td>\n",
       "      <td>75.650842</td>\n",
       "    </tr>\n",
       "  </tbody>\n",
       "</table>\n",
       "</div>"
      ],
      "text/plain": [
       "                SKU  Продажи (Декабрь)  Продажи (Ноябрь)  \\\n",
       "count  9.133200e+04       91332.000000      91332.000000   \n",
       "mean   5.218809e+07         232.286975        225.419382   \n",
       "min    3.022990e+05           1.000000          0.000000   \n",
       "25%    1.702470e+07           5.000000          5.000000   \n",
       "50%    4.358893e+07          22.000000         20.000000   \n",
       "75%    8.010901e+07          89.000000         86.000000   \n",
       "max    1.488241e+08      117175.000000     123809.000000   \n",
       "std    3.785320e+07        1625.949740       1633.056026   \n",
       "\n",
       "            Дата появления карточки    Кол-во фото         Видео  \\\n",
       "count                          91332  91332.000000  91332.000000   \n",
       "mean   2022-07-26 19:23:47.039811072      5.530406      0.225693   \n",
       "min              2013-01-04 00:00:00      0.000000      0.000000   \n",
       "25%              2022-01-26 00:00:00      3.000000      0.000000   \n",
       "50%              2022-11-21 00:00:00      5.000000      0.000000   \n",
       "75%              2023-06-25 00:00:00      7.000000      0.000000   \n",
       "max              2023-11-30 00:00:00     45.000000      1.000000   \n",
       "std                              NaN      4.020511      0.418040   \n",
       "\n",
       "       Рейтинг (Декабрь)  Рейтинг (Ноябрь)  Отзывы (Декабрь)  Отзывы (Ноябрь)  \n",
       "count       91332.000000      90715.000000      91332.000000     91332.000000  \n",
       "mean            4.468394          4.450638         10.033252        10.503690  \n",
       "min             1.000000          1.000000          0.000000         0.000000  \n",
       "25%             4.300000          4.300000          0.000000         0.000000  \n",
       "50%             4.600000          4.500000          1.000000         1.000000  \n",
       "75%             4.800000          4.800000          4.000000         4.000000  \n",
       "max             5.000000          5.000000       5095.000000      5702.000000  \n",
       "std             0.531362          0.536275         70.545133        75.650842  "
      ]
     },
     "execution_count": 10,
     "metadata": {},
     "output_type": "execute_result"
    }
   ],
   "source": [
    "products.describe()"
   ]
  },
  {
   "cell_type": "code",
   "execution_count": null,
   "id": "4f1742f0-294b-4ec4-92c8-b4c12bf9a5af",
   "metadata": {},
   "outputs": [],
   "source": [
    "# Количество уникальных товарных позиций\n",
    "products['SKU'].nunique()"
   ]
  },
  {
   "cell_type": "code",
   "execution_count": 11,
   "id": "0d65424d-cec5-45c0-bcad-cfbcfa649f1c",
   "metadata": {},
   "outputs": [
    {
     "data": {
      "text/plain": [
       "1000"
      ]
     },
     "execution_count": 11,
     "metadata": {},
     "output_type": "execute_result"
    }
   ],
   "source": [
    "# Количество уникальных брендов\n",
    "products['Бренд'].nunique()"
   ]
  },
  {
   "cell_type": "code",
   "execution_count": 12,
   "id": "98b7ffa5-61e8-43e0-9485-64f614bbc696",
   "metadata": {},
   "outputs": [
    {
     "data": {
      "text/plain": [
       "17"
      ]
     },
     "execution_count": 12,
     "metadata": {},
     "output_type": "execute_result"
    }
   ],
   "source": [
    "# Количество уникальных категорий\n",
    "products['Категория'].nunique()"
   ]
  },
  {
   "cell_type": "code",
   "execution_count": 13,
   "id": "e0cf5d2f-b7fa-4bcd-9bda-47f693439b3b",
   "metadata": {},
   "outputs": [
    {
     "data": {
      "text/plain": [
       "53"
      ]
     },
     "execution_count": 13,
     "metadata": {},
     "output_type": "execute_result"
    }
   ],
   "source": [
    "# Количество уникальных стран-производителей\n",
    "products['Страна'].nunique()"
   ]
  },
  {
   "cell_type": "markdown",
   "id": "a75c848a-baa7-426c-918e-4fcd7afbc993",
   "metadata": {},
   "source": [
    "#### Выводы"
   ]
  },
  {
   "cell_type": "markdown",
   "id": "41a30b4a-b02b-401a-b185-16014c0027f1",
   "metadata": {},
   "source": [
    "Данные корректны, значимых выбросов и пропусков нет. Пропуски по рейтингу за ноябрь учтены в дашборде. Дальнейшая подготовка данных (join таблиц, изменение типов данных, агрегация и т.д.) происходят на стороне BI системы."
   ]
  }
 ],
 "metadata": {
  "kernelspec": {
   "display_name": "Python 3 (ipykernel)",
   "language": "python",
   "name": "python3"
  },
  "language_info": {
   "codemirror_mode": {
    "name": "ipython",
    "version": 3
   },
   "file_extension": ".py",
   "mimetype": "text/x-python",
   "name": "python",
   "nbconvert_exporter": "python",
   "pygments_lexer": "ipython3",
   "version": "3.13.7"
  }
 },
 "nbformat": 4,
 "nbformat_minor": 5
}
